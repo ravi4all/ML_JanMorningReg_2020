{
 "cells": [
  {
   "cell_type": "code",
   "execution_count": 1,
   "metadata": {},
   "outputs": [],
   "source": [
    "import urllib.request as url\n",
    "import bs4"
   ]
  },
  {
   "cell_type": "code",
   "execution_count": 15,
   "metadata": {},
   "outputs": [
    {
     "name": "stdout",
     "output_type": "stream",
     "text": [
      "Enter movie name : baahubali 2\n",
      "Baahubali 2: The Conclusion (2017) UA | 2h 47min | Action, Drama | 28 April 2017 (India)\n"
     ]
    }
   ],
   "source": [
    "movie_name = input(\"Enter movie name : \")\n",
    "movie_name = movie_name.replace(' ','+')\n",
    "path = \"https://www.imdb.com/find?q=\"+movie_name\n",
    "\n",
    "res = url.urlopen(path)\n",
    "page = bs4.BeautifulSoup(res,'lxml')\n",
    "\n",
    "td = page.find('td',class_='result_text')\n",
    "a_tag = td.find('a')\n",
    "href = a_tag['href']\n",
    "\n",
    "newPath = \"https://www.imdb.com\"+href\n",
    "res = url.urlopen(newPath)\n",
    "page = bs4.BeautifulSoup(res,'lxml')\n",
    "\n",
    "title = page.find('div',class_='title_wrapper')\n",
    "title = \" \".join(title.text.split())\n",
    "print(title)"
   ]
  },
  {
   "cell_type": "code",
   "execution_count": null,
   "metadata": {},
   "outputs": [],
   "source": []
  },
  {
   "cell_type": "code",
   "execution_count": null,
   "metadata": {},
   "outputs": [],
   "source": []
  },
  {
   "cell_type": "code",
   "execution_count": null,
   "metadata": {},
   "outputs": [],
   "source": []
  }
 ],
 "metadata": {
  "kernelspec": {
   "display_name": "Python 3",
   "language": "python",
   "name": "python3"
  },
  "language_info": {
   "codemirror_mode": {
    "name": "ipython",
    "version": 3
   },
   "file_extension": ".py",
   "mimetype": "text/x-python",
   "name": "python",
   "nbconvert_exporter": "python",
   "pygments_lexer": "ipython3",
   "version": "3.7.3"
  }
 },
 "nbformat": 4,
 "nbformat_minor": 2
}
