{
 "cells": [
  {
   "cell_type": "code",
   "execution_count": 1,
   "metadata": {},
   "outputs": [],
   "source": [
    "import urllib.request as url\n",
    "import bs4"
   ]
  },
  {
   "cell_type": "code",
   "execution_count": 2,
   "metadata": {},
   "outputs": [],
   "source": [
    "path = \"https://www.flipkart.com/search?q=smart+watches&sid=ajy%2Cbuh&as=on&as-show=on&otracker=AS_QueryStore_OrganicAutoSuggest_4_5_na_na_pr&otracker1=AS_QueryStore_OrganicAutoSuggest_4_5_na_na_pr&as-pos=4&as-type=HISTORY&suggestionId=smart+watches%7Cin+Smart+Watches&requestId=83e7bd2e-9c7d-4dcc-b62d-b78ded5f7c1a\"\n",
    "res = url.urlopen(path)"
   ]
  },
  {
   "cell_type": "code",
   "execution_count": 3,
   "metadata": {},
   "outputs": [
    {
     "data": {
      "text/plain": [
       "<http.client.HTTPResponse at 0x1ad7fd2e400>"
      ]
     },
     "execution_count": 3,
     "metadata": {},
     "output_type": "execute_result"
    }
   ],
   "source": [
    "res"
   ]
  },
  {
   "cell_type": "code",
   "execution_count": 4,
   "metadata": {},
   "outputs": [],
   "source": [
    "page = bs4.BeautifulSoup(res,'lxml')"
   ]
  },
  {
   "cell_type": "code",
   "execution_count": 5,
   "metadata": {},
   "outputs": [
    {
     "data": {
      "text/plain": [
       "<div class=\"_3wU53n\">Welltech Bluetooth Smart Watch Phone Silver Smartwatch</div>"
      ]
     },
     "execution_count": 5,
     "metadata": {},
     "output_type": "execute_result"
    }
   ],
   "source": [
    "page.find('div',class_='_3wU53n')"
   ]
  },
  {
   "cell_type": "code",
   "execution_count": 6,
   "metadata": {},
   "outputs": [],
   "source": [
    "title = page.find('div',class_='_3wU53n')"
   ]
  },
  {
   "cell_type": "code",
   "execution_count": 7,
   "metadata": {},
   "outputs": [
    {
     "data": {
      "text/plain": [
       "'Welltech Bluetooth Smart Watch Phone Silver Smartwatch'"
      ]
     },
     "execution_count": 7,
     "metadata": {},
     "output_type": "execute_result"
    }
   ],
   "source": [
    "title.text"
   ]
  },
  {
   "cell_type": "code",
   "execution_count": 8,
   "metadata": {},
   "outputs": [],
   "source": [
    "price = page.find('div',class_='_1vC4OE _2rQ-NK')"
   ]
  },
  {
   "cell_type": "code",
   "execution_count": 9,
   "metadata": {},
   "outputs": [
    {
     "data": {
      "text/plain": [
       "'₹811'"
      ]
     },
     "execution_count": 9,
     "metadata": {},
     "output_type": "execute_result"
    }
   ],
   "source": [
    "price.text"
   ]
  },
  {
   "cell_type": "code",
   "execution_count": 10,
   "metadata": {},
   "outputs": [],
   "source": [
    "titleList = page.find_all('div',class_='_3wU53n')\n",
    "priceList = page.find_all('div',class_='_1vC4OE _2rQ-NK')"
   ]
  },
  {
   "cell_type": "code",
   "execution_count": 13,
   "metadata": {},
   "outputs": [
    {
     "data": {
      "text/plain": [
       "'Welltech Bluetooth Smart Watch Phone Silver Smartwatch'"
      ]
     },
     "execution_count": 13,
     "metadata": {},
     "output_type": "execute_result"
    }
   ],
   "source": [
    "titleList[0].text"
   ]
  },
  {
   "cell_type": "code",
   "execution_count": 14,
   "metadata": {},
   "outputs": [
    {
     "name": "stdout",
     "output_type": "stream",
     "text": [
      "Welltech Bluetooth Smart Watch Phone Silver Smartwatch\n",
      "₹811\n",
      "==================\n",
      "Benling W8W-NBLU Navy Smartwatch\n",
      "₹1,349\n",
      "==================\n",
      "JM V8 MOBILE phone Smartwatch\n",
      "₹699\n",
      "==================\n",
      "Apple Watch Series 5 GPS 44 mm Space Grey Aluminium Case with Black Sport Band\n",
      "₹43,900\n",
      "==================\n",
      "Gionee Smart Life Smartwatch\n",
      "₹2,999\n",
      "==================\n",
      "Aspire New Smartwatch V8 Black Smartwatch\n",
      "₹691\n",
      "==================\n",
      "INDOB A 6 Newest chip BP measure Waterproof ORANGE Smartwatch\n",
      "₹711\n",
      "==================\n",
      "Apple Watch Series 3 GPS - 42 mm Space Grey Aluminium Case with Black Sport Band\n",
      "₹23,900\n",
      "==================\n",
      "Lastpoint 4G Oppo & Mi compatible with all android Smartwatch\n",
      "₹785\n",
      "==================\n",
      "KIDS CHOICE V8 smart watch BLACK Smartwatch\n",
      "₹770\n",
      "==================\n",
      "Huami Amazfit Bip Lite Smartwatch\n",
      "₹3,499\n",
      "==================\n",
      "Gazzet 4G BEST black watch mobile for VI.VO V11 Smartwatch\n",
      "₹785\n",
      "==================\n",
      "Noise ColorFit Pro 2 Jet Black Smartwatch\n",
      "₹3,199\n",
      "==================\n",
      "Welrock SMART WATCH ANDROID & IOS WHITE Smartwatch\n",
      "₹1,199\n",
      "==================\n",
      "Huawei Watch GT 2 (46 mm) Matte Black Smartwatch\n",
      "₹15,990\n",
      "==================\n",
      "Huami Amazfit Bip Onyx Black Smartwatch\n",
      "₹4,999\n",
      "==================\n",
      "Wescon A1 4G Smart hd Bluetooth Smartwatch\n",
      "₹749\n",
      "==================\n",
      "Enew DZ09-BLACK FC007-1SMW phone Black Smartwatch\n",
      "₹580\n",
      "==================\n",
      "Gazzet 4G A1 Watch Mobile Blue with pedometer Smartwatch\n",
      "₹798\n",
      "==================\n",
      "Benling W8W-ROSGOLD Rose Gold Smartwatch\n",
      "₹1,399\n",
      "==================\n",
      "E-LIVE DZ09 4g calling health notifier Gold and Black Smartwatch\n",
      "₹579\n",
      "==================\n",
      "Huami Amazfit Bip Lite Smartwatch\n",
      "₹3,499\n",
      "==================\n",
      "Rock A1 Black Color, 4G Calling Smartwatch\n",
      "₹624\n",
      "==================\n",
      "welrock WELX6 Black Smartwatch\n",
      "₹1,099\n",
      "==================\n"
     ]
    }
   ],
   "source": [
    "for i in range(len(titleList)):\n",
    "    print(titleList[i].text)\n",
    "    print(priceList[i].text)\n",
    "    print(\"==================\")"
   ]
  },
  {
   "cell_type": "code",
   "execution_count": 15,
   "metadata": {},
   "outputs": [],
   "source": [
    "data = {\"title\":[],\"price\":[]}\n",
    "for i in range(5):\n",
    "    path = f\"https://www.flipkart.com/search?q=smart+watches&page={i+1}\"\n",
    "    res = url.urlopen(path)\n",
    "    page = bs4.BeautifulSoup(res,'lxml')\n",
    "    titleList = page.find_all('div',class_='_3wU53n')\n",
    "    priceList = page.find_all('div',class_='_1vC4OE _2rQ-NK')\n",
    "    \n",
    "    for i in range(len(titleList)):\n",
    "        data['title'].append(titleList[i].text)\n",
    "        data['price'].append(priceList[i].text)"
   ]
  },
  {
   "cell_type": "code",
   "execution_count": 18,
   "metadata": {},
   "outputs": [],
   "source": [
    "import pandas as pd"
   ]
  },
  {
   "cell_type": "code",
   "execution_count": 19,
   "metadata": {},
   "outputs": [],
   "source": [
    "df = pd.DataFrame(data)"
   ]
  },
  {
   "cell_type": "code",
   "execution_count": 21,
   "metadata": {},
   "outputs": [
    {
     "data": {
      "text/html": [
       "<div>\n",
       "<style scoped>\n",
       "    .dataframe tbody tr th:only-of-type {\n",
       "        vertical-align: middle;\n",
       "    }\n",
       "\n",
       "    .dataframe tbody tr th {\n",
       "        vertical-align: top;\n",
       "    }\n",
       "\n",
       "    .dataframe thead th {\n",
       "        text-align: right;\n",
       "    }\n",
       "</style>\n",
       "<table border=\"1\" class=\"dataframe\">\n",
       "  <thead>\n",
       "    <tr style=\"text-align: right;\">\n",
       "      <th></th>\n",
       "      <th>title</th>\n",
       "      <th>price</th>\n",
       "    </tr>\n",
       "  </thead>\n",
       "  <tbody>\n",
       "    <tr>\n",
       "      <th>0</th>\n",
       "      <td>Benling W8W-NBLU Navy Smartwatch</td>\n",
       "      <td>₹1,349</td>\n",
       "    </tr>\n",
       "    <tr>\n",
       "      <th>1</th>\n",
       "      <td>Fossil Sport 41 Grey Smartwatch</td>\n",
       "      <td>₹11,995</td>\n",
       "    </tr>\n",
       "    <tr>\n",
       "      <th>2</th>\n",
       "      <td>INDOB A 6 Newest chip BP measure Waterproof OR...</td>\n",
       "      <td>₹711</td>\n",
       "    </tr>\n",
       "    <tr>\n",
       "      <th>3</th>\n",
       "      <td>Lastpoint 4G Oppo &amp; Mi compatible with all and...</td>\n",
       "      <td>₹785</td>\n",
       "    </tr>\n",
       "    <tr>\n",
       "      <th>4</th>\n",
       "      <td>Huawei Watch GT 2 (46 mm) Matte Black Smartwatch</td>\n",
       "      <td>₹15,990</td>\n",
       "    </tr>\n",
       "  </tbody>\n",
       "</table>\n",
       "</div>"
      ],
      "text/plain": [
       "                                               title    price\n",
       "0                   Benling W8W-NBLU Navy Smartwatch   ₹1,349\n",
       "1                    Fossil Sport 41 Grey Smartwatch  ₹11,995\n",
       "2  INDOB A 6 Newest chip BP measure Waterproof OR...     ₹711\n",
       "3  Lastpoint 4G Oppo & Mi compatible with all and...     ₹785\n",
       "4   Huawei Watch GT 2 (46 mm) Matte Black Smartwatch  ₹15,990"
      ]
     },
     "execution_count": 21,
     "metadata": {},
     "output_type": "execute_result"
    }
   ],
   "source": [
    "df.head()"
   ]
  },
  {
   "cell_type": "code",
   "execution_count": null,
   "metadata": {},
   "outputs": [],
   "source": []
  }
 ],
 "metadata": {
  "kernelspec": {
   "display_name": "Python 3",
   "language": "python",
   "name": "python3"
  },
  "language_info": {
   "codemirror_mode": {
    "name": "ipython",
    "version": 3
   },
   "file_extension": ".py",
   "mimetype": "text/x-python",
   "name": "python",
   "nbconvert_exporter": "python",
   "pygments_lexer": "ipython3",
   "version": "3.7.3"
  }
 },
 "nbformat": 4,
 "nbformat_minor": 2
}
